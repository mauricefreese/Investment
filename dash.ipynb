{
 "cells": [
  {
   "cell_type": "code",
   "execution_count": 23,
   "id": "77088d0d-826e-4d3c-83cc-2fec09793953",
   "metadata": {},
   "outputs": [],
   "source": [
    "import pandas as pd\n",
    "import datetime\n",
    "import matplotlib.pyplot as plt\n",
    "import talib as ta\n",
    "import numpy as np \n",
    "from talib import abstract\n",
    "import pandas_datareader.data as web\n",
    "from pandas_datareader import data,wb\n",
    "import yfinance as yf\n",
    "import mplfinance as fplt\n",
    "import datetime as dt\n",
    "from datetime import date, timedelta\n",
    "import matplotlib.pyplot as plt\n",
    "import seaborn as sns \n",
    "import math\n",
    "import plotly.graph_objects as go\n",
    "import plotly.express as px"
   ]
  },
  {
   "cell_type": "markdown",
   "id": "897700c8-b7d2-496f-83a3-8286f5e19df0",
   "metadata": {},
   "source": [
    "Index update"
   ]
  },
  {
   "cell_type": "code",
   "execution_count": 24,
   "id": "1230ab8c-a04b-4194-a618-15cb4fcdada1",
   "metadata": {},
   "outputs": [
    {
     "name": "stdout",
     "output_type": "stream",
     "text": [
      "[*********************100%***********************]  1 of 1 completed\n"
     ]
    }
   ],
   "source": [
    "index = '^GSPC'\n",
    "sp500 = yf.download(tickers=stock,period='y',interval='15m')\n",
    "df2 = pd.DataFrame(sp500)\n",
    "sp500 = df2.to_csv('sp500.csv')\n",
    "sp500 = pd.read_csv('sp500.csv')"
   ]
  },
  {
   "cell_type": "code",
   "execution_count": 30,
   "id": "434627b8-c66b-4e29-a84c-3d54e9d0755e",
   "metadata": {},
   "outputs": [
    {
     "name": "stdout",
     "output_type": "stream",
     "text": [
      "[*********************100%***********************]  1 of 1 completed\n"
     ]
    }
   ],
   "source": [
    "sp = pd.DataFrame()\n",
    "\n",
    "sp[s]=yf.download(index,period='y',interval='15m')['Adj Close']"
   ]
  },
  {
   "cell_type": "markdown",
   "id": "0966c515-1c0d-4f92-8ea8-04de09eeb1b6",
   "metadata": {},
   "source": [
    "Stock(s) Data"
   ]
  },
  {
   "cell_type": "code",
   "execution_count": 31,
   "id": "c1d450be-f5ee-454b-8d8d-300894d9890b",
   "metadata": {},
   "outputs": [
    {
     "name": "stdin",
     "output_type": "stream",
     "text": [
      "Ticker Symbol:  gme\n"
     ]
    },
    {
     "name": "stdout",
     "output_type": "stream",
     "text": [
      "[*********************100%***********************]  1 of 1 completed\n"
     ]
    }
   ],
   "source": [
    "#stock=input(\"Enter a stock ticker symbol: \")\n",
    "stock = input('Ticker Symbol: ').upper()\n",
    "# 1m, 2m, 5m, 15m, 30m, 60m, 90m, 1h, 1d, 5d, 1wk, 1mo, 3mo\n",
    "# Retrieve stock data frame (df) from yfinance API at an interval of 1m \n",
    "df = yf.download(tickers=stock,period='y',interval='15m')\n",
    "df2 = pd.DataFrame(df)\n",
    "df2 = df2.to_csv('portfolio.csv')\n",
    "df2 = pd.read_csv('portfolio.csv')"
   ]
  },
  {
   "cell_type": "code",
   "execution_count": 32,
   "id": "52ce410d-3059-47ea-866d-626f7704219f",
   "metadata": {},
   "outputs": [
    {
     "data": {
      "text/html": [
       "<div>\n",
       "<style scoped>\n",
       "    .dataframe tbody tr th:only-of-type {\n",
       "        vertical-align: middle;\n",
       "    }\n",
       "\n",
       "    .dataframe tbody tr th {\n",
       "        vertical-align: top;\n",
       "    }\n",
       "\n",
       "    .dataframe thead th {\n",
       "        text-align: right;\n",
       "    }\n",
       "</style>\n",
       "<table border=\"1\" class=\"dataframe\">\n",
       "  <thead>\n",
       "    <tr style=\"text-align: right;\">\n",
       "      <th></th>\n",
       "      <th>Open</th>\n",
       "      <th>High</th>\n",
       "      <th>Low</th>\n",
       "      <th>Close</th>\n",
       "      <th>Adj Close</th>\n",
       "      <th>Volume</th>\n",
       "    </tr>\n",
       "    <tr>\n",
       "      <th>Datetime</th>\n",
       "      <th></th>\n",
       "      <th></th>\n",
       "      <th></th>\n",
       "      <th></th>\n",
       "      <th></th>\n",
       "      <th></th>\n",
       "    </tr>\n",
       "  </thead>\n",
       "  <tbody>\n",
       "    <tr>\n",
       "      <th>2023-04-28 09:30:00</th>\n",
       "      <td>18.920000</td>\n",
       "      <td>19.070000</td>\n",
       "      <td>18.879999</td>\n",
       "      <td>19.030001</td>\n",
       "      <td>19.030001</td>\n",
       "      <td>157232</td>\n",
       "    </tr>\n",
       "    <tr>\n",
       "      <th>2023-04-28 09:45:00</th>\n",
       "      <td>19.030001</td>\n",
       "      <td>19.290001</td>\n",
       "      <td>19.020000</td>\n",
       "      <td>19.174999</td>\n",
       "      <td>19.174999</td>\n",
       "      <td>132075</td>\n",
       "    </tr>\n",
       "    <tr>\n",
       "      <th>2023-04-28 10:00:00</th>\n",
       "      <td>19.160000</td>\n",
       "      <td>19.317801</td>\n",
       "      <td>19.129999</td>\n",
       "      <td>19.307800</td>\n",
       "      <td>19.307800</td>\n",
       "      <td>65751</td>\n",
       "    </tr>\n",
       "    <tr>\n",
       "      <th>2023-04-28 10:15:00</th>\n",
       "      <td>19.290001</td>\n",
       "      <td>19.450001</td>\n",
       "      <td>19.260000</td>\n",
       "      <td>19.450001</td>\n",
       "      <td>19.450001</td>\n",
       "      <td>60989</td>\n",
       "    </tr>\n",
       "    <tr>\n",
       "      <th>2023-04-28 10:30:00</th>\n",
       "      <td>19.440001</td>\n",
       "      <td>19.459999</td>\n",
       "      <td>19.170000</td>\n",
       "      <td>19.299999</td>\n",
       "      <td>19.299999</td>\n",
       "      <td>84181</td>\n",
       "    </tr>\n",
       "  </tbody>\n",
       "</table>\n",
       "</div>"
      ],
      "text/plain": [
       "                          Open       High        Low      Close  Adj Close  \\\n",
       "Datetime                                                                     \n",
       "2023-04-28 09:30:00  18.920000  19.070000  18.879999  19.030001  19.030001   \n",
       "2023-04-28 09:45:00  19.030001  19.290001  19.020000  19.174999  19.174999   \n",
       "2023-04-28 10:00:00  19.160000  19.317801  19.129999  19.307800  19.307800   \n",
       "2023-04-28 10:15:00  19.290001  19.450001  19.260000  19.450001  19.450001   \n",
       "2023-04-28 10:30:00  19.440001  19.459999  19.170000  19.299999  19.299999   \n",
       "\n",
       "                     Volume  \n",
       "Datetime                     \n",
       "2023-04-28 09:30:00  157232  \n",
       "2023-04-28 09:45:00  132075  \n",
       "2023-04-28 10:00:00   65751  \n",
       "2023-04-28 10:15:00   60989  \n",
       "2023-04-28 10:30:00   84181  "
      ]
     },
     "execution_count": 32,
     "metadata": {},
     "output_type": "execute_result"
    }
   ],
   "source": [
    "df.head()"
   ]
  },
  {
   "cell_type": "code",
   "execution_count": 33,
   "id": "72edb1cb-562b-4e47-b1c8-8131998f17ea",
   "metadata": {},
   "outputs": [
    {
     "data": {
      "text/html": [
       "<div>\n",
       "<style scoped>\n",
       "    .dataframe tbody tr th:only-of-type {\n",
       "        vertical-align: middle;\n",
       "    }\n",
       "\n",
       "    .dataframe tbody tr th {\n",
       "        vertical-align: top;\n",
       "    }\n",
       "\n",
       "    .dataframe thead th {\n",
       "        text-align: right;\n",
       "    }\n",
       "</style>\n",
       "<table border=\"1\" class=\"dataframe\">\n",
       "  <thead>\n",
       "    <tr style=\"text-align: right;\">\n",
       "      <th></th>\n",
       "      <th>C</th>\n",
       "    </tr>\n",
       "    <tr>\n",
       "      <th>Datetime</th>\n",
       "      <th></th>\n",
       "    </tr>\n",
       "  </thead>\n",
       "  <tbody>\n",
       "    <tr>\n",
       "      <th>2023-04-28 09:30:00</th>\n",
       "      <td>4133.020020</td>\n",
       "    </tr>\n",
       "    <tr>\n",
       "      <th>2023-04-28 09:45:00</th>\n",
       "      <td>4136.609863</td>\n",
       "    </tr>\n",
       "    <tr>\n",
       "      <th>2023-04-28 10:00:00</th>\n",
       "      <td>4152.259766</td>\n",
       "    </tr>\n",
       "    <tr>\n",
       "      <th>2023-04-28 10:15:00</th>\n",
       "      <td>4158.240234</td>\n",
       "    </tr>\n",
       "    <tr>\n",
       "      <th>2023-04-28 10:30:00</th>\n",
       "      <td>4151.299805</td>\n",
       "    </tr>\n",
       "  </tbody>\n",
       "</table>\n",
       "</div>"
      ],
      "text/plain": [
       "                               C\n",
       "Datetime                        \n",
       "2023-04-28 09:30:00  4133.020020\n",
       "2023-04-28 09:45:00  4136.609863\n",
       "2023-04-28 10:00:00  4152.259766\n",
       "2023-04-28 10:15:00  4158.240234\n",
       "2023-04-28 10:30:00  4151.299805"
      ]
     },
     "execution_count": 33,
     "metadata": {},
     "output_type": "execute_result"
    }
   ],
   "source": [
    "sp.head()"
   ]
  },
  {
   "cell_type": "code",
   "execution_count": 34,
   "id": "3f161465-5162-4b1c-b844-cbb560ae34ca",
   "metadata": {},
   "outputs": [
    {
     "data": {
      "text/html": [
       "<div>\n",
       "<style scoped>\n",
       "    .dataframe tbody tr th:only-of-type {\n",
       "        vertical-align: middle;\n",
       "    }\n",
       "\n",
       "    .dataframe tbody tr th {\n",
       "        vertical-align: top;\n",
       "    }\n",
       "\n",
       "    .dataframe thead th {\n",
       "        text-align: right;\n",
       "    }\n",
       "</style>\n",
       "<table border=\"1\" class=\"dataframe\">\n",
       "  <thead>\n",
       "    <tr style=\"text-align: right;\">\n",
       "      <th></th>\n",
       "      <th>C</th>\n",
       "    </tr>\n",
       "    <tr>\n",
       "      <th>Datetime</th>\n",
       "      <th></th>\n",
       "    </tr>\n",
       "  </thead>\n",
       "  <tbody>\n",
       "    <tr>\n",
       "      <th>2023-04-28 14:45:00</th>\n",
       "      <td>4158.899902</td>\n",
       "    </tr>\n",
       "    <tr>\n",
       "      <th>2023-04-28 15:00:00</th>\n",
       "      <td>4162.729980</td>\n",
       "    </tr>\n",
       "    <tr>\n",
       "      <th>2023-04-28 15:15:00</th>\n",
       "      <td>4160.359863</td>\n",
       "    </tr>\n",
       "    <tr>\n",
       "      <th>2023-04-28 15:30:00</th>\n",
       "      <td>4163.370117</td>\n",
       "    </tr>\n",
       "    <tr>\n",
       "      <th>2023-04-28 15:45:00</th>\n",
       "      <td>4169.399902</td>\n",
       "    </tr>\n",
       "  </tbody>\n",
       "</table>\n",
       "</div>"
      ],
      "text/plain": [
       "                               C\n",
       "Datetime                        \n",
       "2023-04-28 14:45:00  4158.899902\n",
       "2023-04-28 15:00:00  4162.729980\n",
       "2023-04-28 15:15:00  4160.359863\n",
       "2023-04-28 15:30:00  4163.370117\n",
       "2023-04-28 15:45:00  4169.399902"
      ]
     },
     "execution_count": 34,
     "metadata": {},
     "output_type": "execute_result"
    }
   ],
   "source": [
    "sp.tail()"
   ]
  },
  {
   "cell_type": "code",
   "execution_count": null,
   "id": "cf803433-454c-4055-ab1e-74bc70f4c6ec",
   "metadata": {},
   "outputs": [],
   "source": []
  }
 ],
 "metadata": {
  "kernelspec": {
   "display_name": "Python 3 (ipykernel)",
   "language": "python",
   "name": "python3"
  },
  "language_info": {
   "codemirror_mode": {
    "name": "ipython",
    "version": 3
   },
   "file_extension": ".py",
   "mimetype": "text/x-python",
   "name": "python",
   "nbconvert_exporter": "python",
   "pygments_lexer": "ipython3",
   "version": "3.10.10"
  }
 },
 "nbformat": 4,
 "nbformat_minor": 5
}
