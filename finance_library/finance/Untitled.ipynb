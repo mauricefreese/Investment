{
 "cells": [
  {
   "cell_type": "code",
   "execution_count": 3,
   "id": "8f4f2290-0723-4b46-8a64-dca54e2bc890",
   "metadata": {},
   "outputs": [],
   "source": [
    "import myfunctions\n",
    "import config"
   ]
  },
  {
   "cell_type": "code",
   "execution_count": 10,
   "id": "a2aeecec-9c9e-468c-93d9-5acdebf23b52",
   "metadata": {},
   "outputs": [],
   "source": [
    "stock = 'jpm'\n",
    "api = config.api\n",
    "q = 1"
   ]
  },
  {
   "cell_type": "code",
   "execution_count": 11,
   "id": "f770b372-763d-4b5e-bbd8-070865c6ad01",
   "metadata": {},
   "outputs": [
    {
     "name": "stdout",
     "output_type": "stream",
     "text": [
      "                                                                                       1\n",
      "Cost and Expenses                                                                      0\n",
      "Cost of Revenue                                                                        0\n",
      "Depreciation and Ammortization                                                1671000000\n",
      "EBITDA                                                                       27770000000\n",
      "EBITDA Ratio                                                                    0.803832\n",
      "EPS                                                                                 3.58\n",
      "EPS Diluted                                                                         3.57\n",
      "Gross Profit                                                                 34547000000\n",
      "Gross Profit Ratio                                                                     1\n",
      "Income Before Tax                                                            13237000000\n",
      "Income Before Tax Ratio                                                         0.383159\n",
      "Income Satement Link                   https://www.sec.gov/Archives/edgar/data/19617/...\n",
      "Income Tax Expense                                                            2229000000\n",
      "Interest Expense                                                             12862000000\n",
      "Interst Income                                                               33054000000\n",
      "Net Income                                                                   11008000000\n",
      "Net Income Ratio                                                                0.318638\n",
      "Op Expenses                                                                            0\n",
      "Op Income                                                                    26099000000\n",
      "Operating Income Ratio                                                          0.755464\n",
      "R&D Expenses                                                                           0\n",
      "Revenue                                                                      34547000000\n",
      "Total Other Income Expenses Net                                             -12862000000\n",
      "Weighted Average Shares Out                                                   2962900000\n",
      "Weighted Average Shares Out - Diluted                                         2967100000\n"
     ]
    }
   ],
   "source": [
    "myfunctions.income_statement_quarterly(stock,api,q)"
   ]
  },
  {
   "cell_type": "code",
   "execution_count": null,
   "id": "b77bbd53-e9fa-4260-a551-6120d63aa245",
   "metadata": {},
   "outputs": [],
   "source": []
  }
 ],
 "metadata": {
  "kernelspec": {
   "display_name": "Python 3 (ipykernel)",
   "language": "python",
   "name": "python3"
  },
  "language_info": {
   "codemirror_mode": {
    "name": "ipython",
    "version": 3
   },
   "file_extension": ".py",
   "mimetype": "text/x-python",
   "name": "python",
   "nbconvert_exporter": "python",
   "pygments_lexer": "ipython3",
   "version": "3.10.10"
  }
 },
 "nbformat": 4,
 "nbformat_minor": 5
}
