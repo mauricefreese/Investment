{
 "cells": [
  {
   "cell_type": "markdown",
   "id": "f5f9b6c5-9043-45eb-94b2-3f269a28d738",
   "metadata": {},
   "source": [
    "## Moving Averages"
   ]
  },
  {
   "cell_type": "markdown",
   "id": "90dda21a-fc04-47c3-b389-80147d221557",
   "metadata": {},
   "source": [
    "#### SMA\n",
    "- Calculated by (sum of the an asset price over the past n periods) / (number of periods)\n",
    "- Often used to identify trend direction"
   ]
  },
  {
   "cell_type": "code",
   "execution_count": 1,
   "id": "bf2051be-b4e8-41c4-8490-10dc83364126",
   "metadata": {},
   "outputs": [],
   "source": [
    "import numpy as np\n",
    "import pandas as pd\n",
    "import matplotlib.pyplot as plt\n",
    "from datetime import datetime\n",
    "import pandas_datareader.data as web\n",
    "import yfinance as yf"
   ]
  },
  {
   "cell_type": "code",
   "execution_count": 9,
   "id": "ca9eef71-81ed-4cdb-9278-0036bcea3a13",
   "metadata": {},
   "outputs": [],
   "source": [
    "#getting data\n",
    "#any stock ticker\n",
    "ticker = 'SQQQ'\n",
    "# 1d,5d,1mo,3mo,6mo,1y,2y,5y,10y,ytd,max\n",
    "period = '1d'\n",
    "# 1m,2m,5m,15m,30m,60m,90m,1h,1d,5d,1wk,1mo,3mo\n",
    "interval = '5m'"
   ]
  },
  {
   "cell_type": "code",
   "execution_count": 10,
   "id": "cc27f529-205d-4531-a14d-dc08fab6f1ac",
   "metadata": {},
   "outputs": [],
   "source": [
    "#import time\n",
    "#while True:\n",
    "    #time.sleep(300)\n",
    "data_whole = yf.Ticker(ticker).history(period=period,interval=interval)"
   ]
  },
  {
   "cell_type": "code",
   "execution_count": 5,
   "id": "76b64099-4bd3-4ec5-8897-bf11cd104632",
   "metadata": {},
   "outputs": [],
   "source": [
    "# Can add the disply of only certain columns at the end of the variable\n",
    "data = yf.Ticker(ticker).history(period=period,interval=interval)['Close']"
   ]
  },
  {
   "cell_type": "code",
   "execution_count": 10,
   "id": "85570afd-1cc8-4a58-a619-ceadabf63a5b",
   "metadata": {
    "collapsed": true,
    "jupyter": {
     "outputs_hidden": true
    },
    "tags": []
   },
   "outputs": [
    {
     "data": {
      "text/html": [
       "<div>\n",
       "<style scoped>\n",
       "    .dataframe tbody tr th:only-of-type {\n",
       "        vertical-align: middle;\n",
       "    }\n",
       "\n",
       "    .dataframe tbody tr th {\n",
       "        vertical-align: top;\n",
       "    }\n",
       "\n",
       "    .dataframe thead th {\n",
       "        text-align: right;\n",
       "    }\n",
       "</style>\n",
       "<table border=\"1\" class=\"dataframe\">\n",
       "  <thead>\n",
       "    <tr style=\"text-align: right;\">\n",
       "      <th></th>\n",
       "      <th>Open</th>\n",
       "      <th>High</th>\n",
       "      <th>Low</th>\n",
       "      <th>Close</th>\n",
       "      <th>Volume</th>\n",
       "      <th>Dividends</th>\n",
       "      <th>Stock Splits</th>\n",
       "      <th>Capital Gains</th>\n",
       "    </tr>\n",
       "    <tr>\n",
       "      <th>Datetime</th>\n",
       "      <th></th>\n",
       "      <th></th>\n",
       "      <th></th>\n",
       "      <th></th>\n",
       "      <th></th>\n",
       "      <th></th>\n",
       "      <th></th>\n",
       "      <th></th>\n",
       "    </tr>\n",
       "  </thead>\n",
       "  <tbody>\n",
       "    <tr>\n",
       "      <th>2023-03-22 09:30:00-04:00</th>\n",
       "      <td>32.555000</td>\n",
       "      <td>32.720001</td>\n",
       "      <td>32.509998</td>\n",
       "      <td>32.630001</td>\n",
       "      <td>5060320</td>\n",
       "      <td>0.204</td>\n",
       "      <td>0.0</td>\n",
       "      <td>0.0</td>\n",
       "    </tr>\n",
       "    <tr>\n",
       "      <th>2023-03-22 09:35:00-04:00</th>\n",
       "      <td>32.630001</td>\n",
       "      <td>32.689999</td>\n",
       "      <td>32.500000</td>\n",
       "      <td>32.509998</td>\n",
       "      <td>1378819</td>\n",
       "      <td>0.000</td>\n",
       "      <td>0.0</td>\n",
       "      <td>0.0</td>\n",
       "    </tr>\n",
       "    <tr>\n",
       "      <th>2023-03-22 09:40:00-04:00</th>\n",
       "      <td>32.500000</td>\n",
       "      <td>32.660000</td>\n",
       "      <td>32.500000</td>\n",
       "      <td>32.595798</td>\n",
       "      <td>1219555</td>\n",
       "      <td>0.000</td>\n",
       "      <td>0.0</td>\n",
       "      <td>0.0</td>\n",
       "    </tr>\n",
       "    <tr>\n",
       "      <th>2023-03-22 09:45:00-04:00</th>\n",
       "      <td>32.595699</td>\n",
       "      <td>32.639999</td>\n",
       "      <td>32.450001</td>\n",
       "      <td>32.530102</td>\n",
       "      <td>1615340</td>\n",
       "      <td>0.000</td>\n",
       "      <td>0.0</td>\n",
       "      <td>0.0</td>\n",
       "    </tr>\n",
       "    <tr>\n",
       "      <th>2023-03-22 09:50:00-04:00</th>\n",
       "      <td>32.529999</td>\n",
       "      <td>32.540001</td>\n",
       "      <td>32.380001</td>\n",
       "      <td>32.465302</td>\n",
       "      <td>1421983</td>\n",
       "      <td>0.000</td>\n",
       "      <td>0.0</td>\n",
       "      <td>0.0</td>\n",
       "    </tr>\n",
       "    <tr>\n",
       "      <th>...</th>\n",
       "      <td>...</td>\n",
       "      <td>...</td>\n",
       "      <td>...</td>\n",
       "      <td>...</td>\n",
       "      <td>...</td>\n",
       "      <td>...</td>\n",
       "      <td>...</td>\n",
       "      <td>...</td>\n",
       "    </tr>\n",
       "    <tr>\n",
       "      <th>2023-03-28 12:00:00-04:00</th>\n",
       "      <td>33.709999</td>\n",
       "      <td>33.790001</td>\n",
       "      <td>33.680099</td>\n",
       "      <td>33.770000</td>\n",
       "      <td>766229</td>\n",
       "      <td>0.000</td>\n",
       "      <td>0.0</td>\n",
       "      <td>0.0</td>\n",
       "    </tr>\n",
       "    <tr>\n",
       "      <th>2023-03-28 12:05:00-04:00</th>\n",
       "      <td>33.770000</td>\n",
       "      <td>33.860001</td>\n",
       "      <td>33.770000</td>\n",
       "      <td>33.839901</td>\n",
       "      <td>1233577</td>\n",
       "      <td>0.000</td>\n",
       "      <td>0.0</td>\n",
       "      <td>0.0</td>\n",
       "    </tr>\n",
       "    <tr>\n",
       "      <th>2023-03-28 12:10:00-04:00</th>\n",
       "      <td>33.834999</td>\n",
       "      <td>33.959999</td>\n",
       "      <td>33.825001</td>\n",
       "      <td>33.880600</td>\n",
       "      <td>1294689</td>\n",
       "      <td>0.000</td>\n",
       "      <td>0.0</td>\n",
       "      <td>0.0</td>\n",
       "    </tr>\n",
       "    <tr>\n",
       "      <th>2023-03-28 12:15:00-04:00</th>\n",
       "      <td>33.880001</td>\n",
       "      <td>34.029999</td>\n",
       "      <td>33.860001</td>\n",
       "      <td>33.980000</td>\n",
       "      <td>1767023</td>\n",
       "      <td>0.000</td>\n",
       "      <td>0.0</td>\n",
       "      <td>0.0</td>\n",
       "    </tr>\n",
       "    <tr>\n",
       "      <th>2023-03-28 12:20:00-04:00</th>\n",
       "      <td>33.970001</td>\n",
       "      <td>33.989899</td>\n",
       "      <td>33.900101</td>\n",
       "      <td>33.970001</td>\n",
       "      <td>646328</td>\n",
       "      <td>0.000</td>\n",
       "      <td>0.0</td>\n",
       "      <td>0.0</td>\n",
       "    </tr>\n",
       "  </tbody>\n",
       "</table>\n",
       "<p>347 rows × 8 columns</p>\n",
       "</div>"
      ],
      "text/plain": [
       "                                Open       High        Low      Close  \\\n",
       "Datetime                                                                \n",
       "2023-03-22 09:30:00-04:00  32.555000  32.720001  32.509998  32.630001   \n",
       "2023-03-22 09:35:00-04:00  32.630001  32.689999  32.500000  32.509998   \n",
       "2023-03-22 09:40:00-04:00  32.500000  32.660000  32.500000  32.595798   \n",
       "2023-03-22 09:45:00-04:00  32.595699  32.639999  32.450001  32.530102   \n",
       "2023-03-22 09:50:00-04:00  32.529999  32.540001  32.380001  32.465302   \n",
       "...                              ...        ...        ...        ...   \n",
       "2023-03-28 12:00:00-04:00  33.709999  33.790001  33.680099  33.770000   \n",
       "2023-03-28 12:05:00-04:00  33.770000  33.860001  33.770000  33.839901   \n",
       "2023-03-28 12:10:00-04:00  33.834999  33.959999  33.825001  33.880600   \n",
       "2023-03-28 12:15:00-04:00  33.880001  34.029999  33.860001  33.980000   \n",
       "2023-03-28 12:20:00-04:00  33.970001  33.989899  33.900101  33.970001   \n",
       "\n",
       "                            Volume  Dividends  Stock Splits  Capital Gains  \n",
       "Datetime                                                                    \n",
       "2023-03-22 09:30:00-04:00  5060320      0.204           0.0            0.0  \n",
       "2023-03-22 09:35:00-04:00  1378819      0.000           0.0            0.0  \n",
       "2023-03-22 09:40:00-04:00  1219555      0.000           0.0            0.0  \n",
       "2023-03-22 09:45:00-04:00  1615340      0.000           0.0            0.0  \n",
       "2023-03-22 09:50:00-04:00  1421983      0.000           0.0            0.0  \n",
       "...                            ...        ...           ...            ...  \n",
       "2023-03-28 12:00:00-04:00   766229      0.000           0.0            0.0  \n",
       "2023-03-28 12:05:00-04:00  1233577      0.000           0.0            0.0  \n",
       "2023-03-28 12:10:00-04:00  1294689      0.000           0.0            0.0  \n",
       "2023-03-28 12:15:00-04:00  1767023      0.000           0.0            0.0  \n",
       "2023-03-28 12:20:00-04:00   646328      0.000           0.0            0.0  \n",
       "\n",
       "[347 rows x 8 columns]"
      ]
     },
     "execution_count": 10,
     "metadata": {},
     "output_type": "execute_result"
    }
   ],
   "source": [
    "data_whole"
   ]
  },
  {
   "cell_type": "code",
   "execution_count": 6,
   "id": "24deb670-2fb9-41b1-818f-85b6f37054b8",
   "metadata": {},
   "outputs": [],
   "source": [
    "import mplfinance as fplt"
   ]
  },
  {
   "cell_type": "code",
   "execution_count": 12,
   "id": "2a810c2d-55ec-4ecf-a246-37f8e261bd1e",
   "metadata": {
    "collapsed": true,
    "jupyter": {
     "outputs_hidden": true
    },
    "tags": []
   },
   "outputs": [
    {
     "data": {
      "image/png": "[encoded data removed]",
      "text/plain": [
       "<Figure size 800x575 with 4 Axes>"
      ]
     },
     "metadata": {},
     "output_type": "display_data"
    }
   ],
   "source": [
    "# https://coderzcolumn.com/tutorials/data-science/candlestick-chart-in-python-mplfinance-plotly-bokeh#1 \n",
    "\n",
    "chart = fplt.plot(\n",
    "    data_whole,\n",
    "    type='candle',\n",
    "    title='SQQQ - 03/28',\n",
    "    ylabel='Price ($)',\n",
    "    volume=True,\n",
    "    ylabel_lower='Vol.',\n",
    ")"
   ]
  },
  {
   "cell_type": "code",
   "execution_count": 7,
   "id": "eee700ba-aa5c-4b20-98f1-ca83bb872ecc",
   "metadata": {},
   "outputs": [
    {
     "name": "stdout",
     "output_type": "stream",
     "text": [
      "Plotly Version : 5.9.0\n"
     ]
    }
   ],
   "source": [
    "import plotly\n",
    "\n",
    "print(\"Plotly Version : {}\".format(plotly.__version__))"
   ]
  },
  {
   "cell_type": "code",
   "execution_count": 11,
   "id": "7a5bc16e-0a85-434a-9ed9-f876a8aa64b3",
   "metadata": {},
   "outputs": [
    {
     "data": {
      "application/vnd.plotly.v1+json": {
       "config": {
        "plotlyServerURL": "https://plot.ly"
       },
       "data": [
        {
         "close": [
          33.5099983215332,
          33.779998779296875,
          33.83000183105469,
          33.709999084472656,
          33.67499923706055,
          33.86800003051758,
          33.81990051269531,
          33.75,
          33.670101165771484,
          33.60749816894531,
          33.73500061035156,
          33.77009963989258,
          34.18989944458008,
          34.141998291015625,
          34.13999938964844,
          34.055198669433594,
          34.099998474121094,
          34.154998779296875,
          33.95000076293945,
          33.89540100097656,
          33.83000183105469,
          33.79399871826172,
          33.839698791503906,
          33.779998779296875,
          33.77180099487305,
          33.67399978637695,
          33.784000396728516,
          33.81999969482422,
          33.7599983215332,
          33.720001220703125,
          33.77000045776367,
          33.839599609375,
          33.885501861572266,
          33.97140121459961,
          33.95000076293945,
          33.97999954223633,
          33.9900016784668,
          33.960601806640625
         ],
         "high": [
          33.638099670410156,
          33.81999969482422,
          33.939998626708984,
          33.87009811401367,
          33.849998474121094,
          33.91999816894531,
          34.0099983215332,
          33.849998474121094,
          33.76649856567383,
          33.720001220703125,
          33.77000045776367,
          33.849998474121094,
          34.20000076293945,
          34.19960021972656,
          34.18000030517578,
          34.156898498535156,
          34.11000061035156,
          34.16999816894531,
          34.16999816894531,
          33.95690155029297,
          33.95000076293945,
          33.83000183105469,
          33.859901428222656,
          33.88999938964844,
          33.79999923706055,
          33.81019973754883,
          33.790000915527344,
          33.82500076293945,
          33.83000183105469,
          33.79999923706055,
          33.790000915527344,
          33.86000061035156,
          33.959999084472656,
          34.029998779296875,
          33.9900016784668,
          34.02000045776367,
          34.099998474121094,
          34
         ],
         "low": [
          33.21500015258789,
          33.4900016784668,
          33.70009994506836,
          33.68000030517578,
          33.650001525878906,
          33.65999984741211,
          33.7400016784668,
          33.709999084472656,
          33.621299743652344,
          33.56999969482422,
          33.58000183105469,
          33.72999954223633,
          33.7400016784668,
          34.060001373291016,
          34.07500076293945,
          34.02000045776367,
          34.032100677490234,
          34.02429962158203,
          33.90999984741211,
          33.849998474121094,
          33.81999969482422,
          33.75419998168945,
          33.75,
          33.709999084472656,
          33.68000030517578,
          33.63999938964844,
          33.63999938964844,
          33.750099182128906,
          33.720001220703125,
          33.709999084472656,
          33.68009948730469,
          33.77000045776367,
          33.82500076293945,
          33.86000061035156,
          33.90010070800781,
          33.93000030517578,
          33.97999954223633,
          33.95000076293945
         ],
         "open": [
          33.21500015258789,
          33.500099182128906,
          33.779998779296875,
          33.84000015258789,
          33.709999084472656,
          33.67679977416992,
          33.8650016784668,
          33.81010055541992,
          33.7400016784668,
          33.679901123046875,
          33.6072998046875,
          33.736000061035156,
          33.779998779296875,
          34.189998626708984,
          34.14540100097656,
          34.148101806640625,
          34.055999755859375,
          34.097999572753906,
          34.150001525878906,
          33.95690155029297,
          33.89500045776367,
          33.83000183105469,
          33.7952995300293,
          33.83000183105469,
          33.779998779296875,
          33.77000045776367,
          33.66999816894531,
          33.779998779296875,
          33.8119010925293,
          33.7599983215332,
          33.709999084472656,
          33.77000045776367,
          33.834999084472656,
          33.88999938964844,
          33.970001220703125,
          33.95000076293945,
          33.9900016784668,
          33.9900016784668
         ],
         "type": "candlestick",
         "x": [
          "2023-03-28T09:30:00-04:00",
          "2023-03-28T09:35:00-04:00",
          "2023-03-28T09:40:00-04:00",
          "2023-03-28T09:45:00-04:00",
          "2023-03-28T09:50:00-04:00",
          "2023-03-28T09:55:00-04:00",
          "2023-03-28T10:00:00-04:00",
          "2023-03-28T10:05:00-04:00",
          "2023-03-28T10:10:00-04:00",
          "2023-03-28T10:15:00-04:00",
          "2023-03-28T10:20:00-04:00",
          "2023-03-28T10:25:00-04:00",
          "2023-03-28T10:30:00-04:00",
          "2023-03-28T10:35:00-04:00",
          "2023-03-28T10:40:00-04:00",
          "2023-03-28T10:45:00-04:00",
          "2023-03-28T10:50:00-04:00",
          "2023-03-28T10:55:00-04:00",
          "2023-03-28T11:00:00-04:00",
          "2023-03-28T11:05:00-04:00",
          "2023-03-28T11:10:00-04:00",
          "2023-03-28T11:15:00-04:00",
          "2023-03-28T11:20:00-04:00",
          "2023-03-28T11:25:00-04:00",
          "2023-03-28T11:30:00-04:00",
          "2023-03-28T11:35:00-04:00",
          "2023-03-28T11:40:00-04:00",
          "2023-03-28T11:45:00-04:00",
          "2023-03-28T11:50:00-04:00",
          "2023-03-28T11:55:00-04:00",
          "2023-03-28T12:00:00-04:00",
          "2023-03-28T12:05:00-04:00",
          "2023-03-28T12:10:00-04:00",
          "2023-03-28T12:15:00-04:00",
          "2023-03-28T12:20:00-04:00",
          "2023-03-28T12:25:00-04:00",
          "2023-03-28T12:30:00-04:00",
          "2023-03-28T12:35:00-04:00"
         ]
        }
       ],
       "layout": {
        "height": 600,
        "template": {
         "data": {
          "bar": [
           {
            "error_x": {
             "color": "#2a3f5f"
            },
            "error_y": {
             "color": "#2a3f5f"
            },
            "marker": {
             "line": {
              "color": "#E5ECF6",
              "width": 0.5
             },
             "pattern": {
              "fillmode": "overlay",
              "size": 10,
              "solidity": 0.2
             }
            },
            "type": "bar"
           }
          ],
          "barpolar": [
           {
            "marker": {
             "line": {
              "color": "#E5ECF6",
              "width": 0.5
             },
             "pattern": {
              "fillmode": "overlay",
              "size": 10,
              "solidity": 0.2
             }
            },
            "type": "barpolar"
           }
          ],
          "carpet": [
           {
            "aaxis": {
             "endlinecolor": "#2a3f5f",
             "gridcolor": "white",
             "linecolor": "white",
             "minorgridcolor": "white",
             "startlinecolor": "#2a3f5f"
            },
            "baxis": {
             "endlinecolor": "#2a3f5f",
             "gridcolor": "white",
             "linecolor": "white",
             "minorgridcolor": "white",
             "startlinecolor": "#2a3f5f"
            },
            "type": "carpet"
           }
          ],
          "choropleth": [
           {
            "colorbar": {
             "outlinewidth": 0,
             "ticks": ""
            },
            "type": "choropleth"
           }
          ],
          "contour": [
           {
            "colorbar": {
             "outlinewidth": 0,
             "ticks": ""
            },
            "colorscale": [
             [
              0,
              "#0d0887"
             ],
             [
              0.1111111111111111,
              "#46039f"
             ],
             [
              0.2222222222222222,
              "#7201a8"
             ],
             [
              0.3333333333333333,
              "#9c179e"
             ],
             [
              0.4444444444444444,
              "#bd3786"
             ],
             [
              0.5555555555555556,
              "#d8576b"
             ],
             [
              0.6666666666666666,
              "#ed7953"
             ],
             [
              0.7777777777777778,
              "#fb9f3a"
             ],
             [
              0.8888888888888888,
              "#fdca26"
             ],
             [
              1,
              "#f0f921"
             ]
            ],
            "type": "contour"
           }
          ],
          "contourcarpet": [
           {
            "colorbar": {
             "outlinewidth": 0,
             "ticks": ""
            },
            "type": "contourcarpet"
           }
          ],
          "heatmap": [
           {
            "colorbar": {
             "outlinewidth": 0,
             "ticks": ""
            },
            "colorscale": [
             [
              0,
              "#0d0887"
             ],
             [
              0.1111111111111111,
              "#46039f"
             ],
             [
              0.2222222222222222,
              "#7201a8"
             ],
             [
              0.3333333333333333,
              "#9c179e"
             ],
             [
              0.4444444444444444,
              "#bd3786"
             ],
             [
              0.5555555555555556,
              "#d8576b"
             ],
             [
              0.6666666666666666,
              "#ed7953"
             ],
             [
              0.7777777777777778,
              "#fb9f3a"
             ],
             [
              0.8888888888888888,
              "#fdca26"
             ],
             [
              1,
              "#f0f921"
             ]
            ],
            "type": "heatmap"
           }
          ],
          "heatmapgl": [
           {
            "colorbar": {
             "outlinewidth": 0,
             "ticks": ""
            },
            "colorscale": [
             [
              0,
              "#0d0887"
             ],
             [
              0.1111111111111111,
              "#46039f"
             ],
             [
              0.2222222222222222,
              "#7201a8"
             ],
             [
              0.3333333333333333,
              "#9c179e"
             ],
             [
              0.4444444444444444,
              "#bd3786"
             ],
             [
              0.5555555555555556,
              "#d8576b"
             ],
             [
              0.6666666666666666,
              "#ed7953"
             ],
             [
              0.7777777777777778,
              "#fb9f3a"
             ],
             [
              0.8888888888888888,
              "#fdca26"
             ],
             [
              1,
              "#f0f921"
             ]
            ],
            "type": "heatmapgl"
           }
          ],
          "histogram": [
           {
            "marker": {
             "pattern": {
              "fillmode": "overlay",
              "size": 10,
              "solidity": 0.2
             }
            },
            "type": "histogram"
           }
          ],
          "histogram2d": [
           {
            "colorbar": {
             "outlinewidth": 0,
             "ticks": ""
            },
            "colorscale": [
             [
              0,
              "#0d0887"
             ],
             [
              0.1111111111111111,
              "#46039f"
             ],
             [
              0.2222222222222222,
              "#7201a8"
             ],
             [
              0.3333333333333333,
              "#9c179e"
             ],
             [
              0.4444444444444444,
              "#bd3786"
             ],
             [
              0.5555555555555556,
              "#d8576b"
             ],
             [
              0.6666666666666666,
              "#ed7953"
             ],
             [
              0.7777777777777778,
              "#fb9f3a"
             ],
             [
              0.8888888888888888,
              "#fdca26"
             ],
             [
              1,
              "#f0f921"
             ]
            ],
            "type": "histogram2d"
           }
          ],
          "histogram2dcontour": [
           {
            "colorbar": {
             "outlinewidth": 0,
             "ticks": ""
            },
            "colorscale": [
             [
              0,
              "#0d0887"
             ],
             [
              0.1111111111111111,
              "#46039f"
             ],
             [
              0.2222222222222222,
              "#7201a8"
             ],
             [
              0.3333333333333333,
              "#9c179e"
             ],
             [
              0.4444444444444444,
              "#bd3786"
             ],
             [
              0.5555555555555556,
              "#d8576b"
             ],
             [
              0.6666666666666666,
              "#ed7953"
             ],
             [
              0.7777777777777778,
              "#fb9f3a"
             ],
             [
              0.8888888888888888,
              "#fdca26"
             ],
             [
              1,
              "#f0f921"
             ]
            ],
            "type": "histogram2dcontour"
           }
          ],
          "mesh3d": [
           {
            "colorbar": {
             "outlinewidth": 0,
             "ticks": ""
            },
            "type": "mesh3d"
           }
          ],
          "parcoords": [
           {
            "line": {
             "colorbar": {
              "outlinewidth": 0,
              "ticks": ""
             }
            },
            "type": "parcoords"
           }
          ],
          "pie": [
           {
            "automargin": true,
            "type": "pie"
           }
          ],
          "scatter": [
           {
            "fillpattern": {
             "fillmode": "overlay",
             "size": 10,
             "solidity": 0.2
            },
            "type": "scatter"
           }
          ],
          "scatter3d": [
           {
            "line": {
             "colorbar": {
              "outlinewidth": 0,
              "ticks": ""
             }
            },
            "marker": {
             "colorbar": {
              "outlinewidth": 0,
              "ticks": ""
             }
            },
            "type": "scatter3d"
           }
          ],
          "scattercarpet": [
           {
            "marker": {
             "colorbar": {
              "outlinewidth": 0,
              "ticks": ""
             }
            },
            "type": "scattercarpet"
           }
          ],
          "scattergeo": [
           {
            "marker": {
             "colorbar": {
              "outlinewidth": 0,
              "ticks": ""
             }
            },
            "type": "scattergeo"
           }
          ],
          "scattergl": [
           {
            "marker": {
             "colorbar": {
              "outlinewidth": 0,
              "ticks": ""
             }
            },
            "type": "scattergl"
           }
          ],
          "scattermapbox": [
           {
            "marker": {
             "colorbar": {
              "outlinewidth": 0,
              "ticks": ""
             }
            },
            "type": "scattermapbox"
           }
          ],
          "scatterpolar": [
           {
            "marker": {
             "colorbar": {
              "outlinewidth": 0,
              "ticks": ""
             }
            },
            "type": "scatterpolar"
           }
          ],
          "scatterpolargl": [
           {
            "marker": {
             "colorbar": {
              "outlinewidth": 0,
              "ticks": ""
             }
            },
            "type": "scatterpolargl"
           }
          ],
          "scatterternary": [
           {
            "marker": {
             "colorbar": {
              "outlinewidth": 0,
              "ticks": ""
             }
            },
            "type": "scatterternary"
           }
          ],
          "surface": [
           {
            "colorbar": {
             "outlinewidth": 0,
             "ticks": ""
            },
            "colorscale": [
             [
              0,
              "#0d0887"
             ],
             [
              0.1111111111111111,
              "#46039f"
             ],
             [
              0.2222222222222222,
              "#7201a8"
             ],
             [
              0.3333333333333333,
              "#9c179e"
             ],
             [
              0.4444444444444444,
              "#bd3786"
             ],
             [
              0.5555555555555556,
              "#d8576b"
             ],
             [
              0.6666666666666666,
              "#ed7953"
             ],
             [
              0.7777777777777778,
              "#fb9f3a"
             ],
             [
              0.8888888888888888,
              "#fdca26"
             ],
             [
              1,
              "#f0f921"
             ]
            ],
            "type": "surface"
           }
          ],
          "table": [
           {
            "cells": {
             "fill": {
              "color": "#EBF0F8"
             },
             "line": {
              "color": "white"
             }
            },
            "header": {
             "fill": {
              "color": "#C8D4E3"
             },
             "line": {
              "color": "white"
             }
            },
            "type": "table"
           }
          ]
         },
         "layout": {
          "annotationdefaults": {
           "arrowcolor": "#2a3f5f",
           "arrowhead": 0,
           "arrowwidth": 1
          },
          "autotypenumbers": "strict",
          "coloraxis": {
           "colorbar": {
            "outlinewidth": 0,
            "ticks": ""
           }
          },
          "colorscale": {
           "diverging": [
            [
             0,
             "#8e0152"
            ],
            [
             0.1,
             "#c51b7d"
            ],
            [
             0.2,
             "#de77ae"
            ],
            [
             0.3,
             "#f1b6da"
            ],
            [
             0.4,
             "#fde0ef"
            ],
            [
             0.5,
             "#f7f7f7"
            ],
            [
             0.6,
             "#e6f5d0"
            ],
            [
             0.7,
             "#b8e186"
            ],
            [
             0.8,
             "#7fbc41"
            ],
            [
             0.9,
             "#4d9221"
            ],
            [
             1,
             "#276419"
            ]
           ],
           "sequential": [
            [
             0,
             "#0d0887"
            ],
            [
             0.1111111111111111,
             "#46039f"
            ],
            [
             0.2222222222222222,
             "#7201a8"
            ],
            [
             0.3333333333333333,
             "#9c179e"
            ],
            [
             0.4444444444444444,
             "#bd3786"
            ],
            [
             0.5555555555555556,
             "#d8576b"
            ],
            [
             0.6666666666666666,
             "#ed7953"
            ],
            [
             0.7777777777777778,
             "#fb9f3a"
            ],
            [
             0.8888888888888888,
             "#fdca26"
            ],
            [
             1,
             "#f0f921"
            ]
           ],
           "sequentialminus": [
            [
             0,
             "#0d0887"
            ],
            [
             0.1111111111111111,
             "#46039f"
            ],
            [
             0.2222222222222222,
             "#7201a8"
            ],
            [
             0.3333333333333333,
             "#9c179e"
            ],
            [
             0.4444444444444444,
             "#bd3786"
            ],
            [
             0.5555555555555556,
             "#d8576b"
            ],
            [
             0.6666666666666666,
             "#ed7953"
            ],
            [
             0.7777777777777778,
             "#fb9f3a"
            ],
            [
             0.8888888888888888,
             "#fdca26"
            ],
            [
             1,
             "#f0f921"
            ]
           ]
          },
          "colorway": [
           "#636efa",
           "#EF553B",
           "#00cc96",
           "#ab63fa",
           "#FFA15A",
           "#19d3f3",
           "#FF6692",
           "#B6E880",
           "#FF97FF",
           "#FECB52"
          ],
          "font": {
           "color": "#2a3f5f"
          },
          "geo": {
           "bgcolor": "white",
           "lakecolor": "white",
           "landcolor": "#E5ECF6",
           "showlakes": true,
           "showland": true,
           "subunitcolor": "white"
          },
          "hoverlabel": {
           "align": "left"
          },
          "hovermode": "closest",
          "mapbox": {
           "style": "light"
          },
          "paper_bgcolor": "white",
          "plot_bgcolor": "#E5ECF6",
          "polar": {
           "angularaxis": {
            "gridcolor": "white",
            "linecolor": "white",
            "ticks": ""
           },
           "bgcolor": "#E5ECF6",
           "radialaxis": {
            "gridcolor": "white",
            "linecolor": "white",
            "ticks": ""
           }
          },
          "scene": {
           "xaxis": {
            "backgroundcolor": "#E5ECF6",
            "gridcolor": "white",
            "gridwidth": 2,
            "linecolor": "white",
            "showbackground": true,
            "ticks": "",
            "zerolinecolor": "white"
           },
           "yaxis": {
            "backgroundcolor": "#E5ECF6",
            "gridcolor": "white",
            "gridwidth": 2,
            "linecolor": "white",
            "showbackground": true,
            "ticks": "",
            "zerolinecolor": "white"
           },
           "zaxis": {
            "backgroundcolor": "#E5ECF6",
            "gridcolor": "white",
            "gridwidth": 2,
            "linecolor": "white",
            "showbackground": true,
            "ticks": "",
            "zerolinecolor": "white"
           }
          },
          "shapedefaults": {
           "line": {
            "color": "#2a3f5f"
           }
          },
          "ternary": {
           "aaxis": {
            "gridcolor": "white",
            "linecolor": "white",
            "ticks": ""
           },
           "baxis": {
            "gridcolor": "white",
            "linecolor": "white",
            "ticks": ""
           },
           "bgcolor": "#E5ECF6",
           "caxis": {
            "gridcolor": "white",
            "linecolor": "white",
            "ticks": ""
           }
          },
          "title": {
           "x": 0.05
          },
          "xaxis": {
           "automargin": true,
           "gridcolor": "white",
           "linecolor": "white",
           "ticks": "",
           "title": {
            "standoff": 15
           },
           "zerolinecolor": "white",
           "zerolinewidth": 2
          },
          "yaxis": {
           "automargin": true,
           "gridcolor": "white",
           "linecolor": "white",
           "ticks": "",
           "title": {
            "standoff": 15
           },
           "zerolinecolor": "white",
           "zerolinewidth": 2
          }
         }
        },
        "title": {
         "text": "SQQQ, March - 2023"
        },
        "width": 800,
        "xaxis": {
         "autorange": true,
         "range": [
          "2023-03-28 09:27:30",
          "2023-03-28 12:37:30"
         ],
         "rangeslider": {
          "autorange": true,
          "range": [
           "2023-03-28 09:27:30",
           "2023-03-28 12:37:30"
          ],
          "yaxis": {
           "_template": null,
           "rangemode": "match"
          }
         },
         "type": "date"
        },
        "yaxis": {
         "autorange": true,
         "range": [
          33.160277896457245,
          34.2547230190701
         ],
         "title": {
          "text": "SQQQ"
         }
        }
       }
      },
      "image/png": "[encoded data removed]",
      "text/html": [
       "<div>                            <div id=\"e62b9cf9-42b2-4f3e-a508-08f92917e40d\" class=\"plotly-graph-div\" style=\"height:600px; width:800px;\"></div>            <script type=\"text/javascript\">                require([\"plotly\"], function(Plotly) {                    window.PLOTLYENV=window.PLOTLYENV || {};                                    if (document.getElementById(\"e62b9cf9-42b2-4f3e-a508-08f92917e40d\")) {                    Plotly.newPlot(                        \"e62b9cf9-42b2-4f3e-a508-08f92917e40d\",                        [{\"close\":[33.5099983215332,33.779998779296875,33.83000183105469,33.709999084472656,33.67499923706055,33.86800003051758,33.81990051269531,33.75,33.670101165771484,33.60749816894531,33.73500061035156,33.77009963989258,34.18989944458008,34.141998291015625,34.13999938964844,34.055198669433594,34.099998474121094,34.154998779296875,33.95000076293945,33.89540100097656,33.83000183105469,33.79399871826172,33.839698791503906,33.779998779296875,33.77180099487305,33.67399978637695,33.784000396728516,33.81999969482422,33.7599983215332,33.720001220703125,33.77000045776367,33.839599609375,33.885501861572266,33.97140121459961,33.95000076293945,33.97999954223633,33.9900016784668,33.960601806640625],\"high\":[33.638099670410156,33.81999969482422,33.939998626708984,33.87009811401367,33.849998474121094,33.91999816894531,34.0099983215332,33.849998474121094,33.76649856567383,33.720001220703125,33.77000045776367,33.849998474121094,34.20000076293945,34.19960021972656,34.18000030517578,34.156898498535156,34.11000061035156,34.16999816894531,34.16999816894531,33.95690155029297,33.95000076293945,33.83000183105469,33.859901428222656,33.88999938964844,33.79999923706055,33.81019973754883,33.790000915527344,33.82500076293945,33.83000183105469,33.79999923706055,33.790000915527344,33.86000061035156,33.959999084472656,34.029998779296875,33.9900016784668,34.02000045776367,34.099998474121094,34.0],\"low\":[33.21500015258789,33.4900016784668,33.70009994506836,33.68000030517578,33.650001525878906,33.65999984741211,33.7400016784668,33.709999084472656,33.621299743652344,33.56999969482422,33.58000183105469,33.72999954223633,33.7400016784668,34.060001373291016,34.07500076293945,34.02000045776367,34.032100677490234,34.02429962158203,33.90999984741211,33.849998474121094,33.81999969482422,33.75419998168945,33.75,33.709999084472656,33.68000030517578,33.63999938964844,33.63999938964844,33.750099182128906,33.720001220703125,33.709999084472656,33.68009948730469,33.77000045776367,33.82500076293945,33.86000061035156,33.90010070800781,33.93000030517578,33.97999954223633,33.95000076293945],\"open\":[33.21500015258789,33.500099182128906,33.779998779296875,33.84000015258789,33.709999084472656,33.67679977416992,33.8650016784668,33.81010055541992,33.7400016784668,33.679901123046875,33.6072998046875,33.736000061035156,33.779998779296875,34.189998626708984,34.14540100097656,34.148101806640625,34.055999755859375,34.097999572753906,34.150001525878906,33.95690155029297,33.89500045776367,33.83000183105469,33.7952995300293,33.83000183105469,33.779998779296875,33.77000045776367,33.66999816894531,33.779998779296875,33.8119010925293,33.7599983215332,33.709999084472656,33.77000045776367,33.834999084472656,33.88999938964844,33.970001220703125,33.95000076293945,33.9900016784668,33.9900016784668],\"x\":[\"2023-03-28T09:30:00-04:00\",\"2023-03-28T09:35:00-04:00\",\"2023-03-28T09:40:00-04:00\",\"2023-03-28T09:45:00-04:00\",\"2023-03-28T09:50:00-04:00\",\"2023-03-28T09:55:00-04:00\",\"2023-03-28T10:00:00-04:00\",\"2023-03-28T10:05:00-04:00\",\"2023-03-28T10:10:00-04:00\",\"2023-03-28T10:15:00-04:00\",\"2023-03-28T10:20:00-04:00\",\"2023-03-28T10:25:00-04:00\",\"2023-03-28T10:30:00-04:00\",\"2023-03-28T10:35:00-04:00\",\"2023-03-28T10:40:00-04:00\",\"2023-03-28T10:45:00-04:00\",\"2023-03-28T10:50:00-04:00\",\"2023-03-28T10:55:00-04:00\",\"2023-03-28T11:00:00-04:00\",\"2023-03-28T11:05:00-04:00\",\"2023-03-28T11:10:00-04:00\",\"2023-03-28T11:15:00-04:00\",\"2023-03-28T11:20:00-04:00\",\"2023-03-28T11:25:00-04:00\",\"2023-03-28T11:30:00-04:00\",\"2023-03-28T11:35:00-04:00\",\"2023-03-28T11:40:00-04:00\",\"2023-03-28T11:45:00-04:00\",\"2023-03-28T11:50:00-04:00\",\"2023-03-28T11:55:00-04:00\",\"2023-03-28T12:00:00-04:00\",\"2023-03-28T12:05:00-04:00\",\"2023-03-28T12:10:00-04:00\",\"2023-03-28T12:15:00-04:00\",\"2023-03-28T12:20:00-04:00\",\"2023-03-28T12:25:00-04:00\",\"2023-03-28T12:30:00-04:00\",\"2023-03-28T12:35:00-04:00\"],\"type\":\"candlestick\"}],                        {\"template\":{\"data\":{\"histogram2dcontour\":[{\"type\":\"histogram2dcontour\",\"colorbar\":{\"outlinewidth\":0,\"ticks\":\"\"},\"colorscale\":[[0.0,\"#0d0887\"],[0.1111111111111111,\"#46039f\"],[0.2222222222222222,\"#7201a8\"],[0.3333333333333333,\"#9c179e\"],[0.4444444444444444,\"#bd3786\"],[0.5555555555555556,\"#d8576b\"],[0.6666666666666666,\"#ed7953\"],[0.7777777777777778,\"#fb9f3a\"],[0.8888888888888888,\"#fdca26\"],[1.0,\"#f0f921\"]]}],\"choropleth\":[{\"type\":\"choropleth\",\"colorbar\":{\"outlinewidth\":0,\"ticks\":\"\"}}],\"histogram2d\":[{\"type\":\"histogram2d\",\"colorbar\":{\"outlinewidth\":0,\"ticks\":\"\"},\"colorscale\":[[0.0,\"#0d0887\"],[0.1111111111111111,\"#46039f\"],[0.2222222222222222,\"#7201a8\"],[0.3333333333333333,\"#9c179e\"],[0.4444444444444444,\"#bd3786\"],[0.5555555555555556,\"#d8576b\"],[0.6666666666666666,\"#ed7953\"],[0.7777777777777778,\"#fb9f3a\"],[0.8888888888888888,\"#fdca26\"],[1.0,\"#f0f921\"]]}],\"heatmap\":[{\"type\":\"heatmap\",\"colorbar\":{\"outlinewidth\":0,\"ticks\":\"\"},\"colorscale\":[[0.0,\"#0d0887\"],[0.1111111111111111,\"#46039f\"],[0.2222222222222222,\"#7201a8\"],[0.3333333333333333,\"#9c179e\"],[0.4444444444444444,\"#bd3786\"],[0.5555555555555556,\"#d8576b\"],[0.6666666666666666,\"#ed7953\"],[0.7777777777777778,\"#fb9f3a\"],[0.8888888888888888,\"#fdca26\"],[1.0,\"#f0f921\"]]}],\"heatmapgl\":[{\"type\":\"heatmapgl\",\"colorbar\":{\"outlinewidth\":0,\"ticks\":\"\"},\"colorscale\":[[0.0,\"#0d0887\"],[0.1111111111111111,\"#46039f\"],[0.2222222222222222,\"#7201a8\"],[0.3333333333333333,\"#9c179e\"],[0.4444444444444444,\"#bd3786\"],[0.5555555555555556,\"#d8576b\"],[0.6666666666666666,\"#ed7953\"],[0.7777777777777778,\"#fb9f3a\"],[0.8888888888888888,\"#fdca26\"],[1.0,\"#f0f921\"]]}],\"contourcarpet\":[{\"type\":\"contourcarpet\",\"colorbar\":{\"outlinewidth\":0,\"ticks\":\"\"}}],\"contour\":[{\"type\":\"contour\",\"colorbar\":{\"outlinewidth\":0,\"ticks\":\"\"},\"colorscale\":[[0.0,\"#0d0887\"],[0.1111111111111111,\"#46039f\"],[0.2222222222222222,\"#7201a8\"],[0.3333333333333333,\"#9c179e\"],[0.4444444444444444,\"#bd3786\"],[0.5555555555555556,\"#d8576b\"],[0.6666666666666666,\"#ed7953\"],[0.7777777777777778,\"#fb9f3a\"],[0.8888888888888888,\"#fdca26\"],[1.0,\"#f0f921\"]]}],\"surface\":[{\"type\":\"surface\",\"colorbar\":{\"outlinewidth\":0,\"ticks\":\"\"},\"colorscale\":[[0.0,\"#0d0887\"],[0.1111111111111111,\"#46039f\"],[0.2222222222222222,\"#7201a8\"],[0.3333333333333333,\"#9c179e\"],[0.4444444444444444,\"#bd3786\"],[0.5555555555555556,\"#d8576b\"],[0.6666666666666666,\"#ed7953\"],[0.7777777777777778,\"#fb9f3a\"],[0.8888888888888888,\"#fdca26\"],[1.0,\"#f0f921\"]]}],\"mesh3d\":[{\"type\":\"mesh3d\",\"colorbar\":{\"outlinewidth\":0,\"ticks\":\"\"}}],\"scatter\":[{\"fillpattern\":{\"fillmode\":\"overlay\",\"size\":10,\"solidity\":0.2},\"type\":\"scatter\"}],\"parcoords\":[{\"type\":\"parcoords\",\"line\":{\"colorbar\":{\"outlinewidth\":0,\"ticks\":\"\"}}}],\"scatterpolargl\":[{\"type\":\"scatterpolargl\",\"marker\":{\"colorbar\":{\"outlinewidth\":0,\"ticks\":\"\"}}}],\"bar\":[{\"error_x\":{\"color\":\"#2a3f5f\"},\"error_y\":{\"color\":\"#2a3f5f\"},\"marker\":{\"line\":{\"color\":\"#E5ECF6\",\"width\":0.5},\"pattern\":{\"fillmode\":\"overlay\",\"size\":10,\"solidity\":0.2}},\"type\":\"bar\"}],\"scattergeo\":[{\"type\":\"scattergeo\",\"marker\":{\"colorbar\":{\"outlinewidth\":0,\"ticks\":\"\"}}}],\"scatterpolar\":[{\"type\":\"scatterpolar\",\"marker\":{\"colorbar\":{\"outlinewidth\":0,\"ticks\":\"\"}}}],\"histogram\":[{\"marker\":{\"pattern\":{\"fillmode\":\"overlay\",\"size\":10,\"solidity\":0.2}},\"type\":\"histogram\"}],\"scattergl\":[{\"type\":\"scattergl\",\"marker\":{\"colorbar\":{\"outlinewidth\":0,\"ticks\":\"\"}}}],\"scatter3d\":[{\"type\":\"scatter3d\",\"line\":{\"colorbar\":{\"outlinewidth\":0,\"ticks\":\"\"}},\"marker\":{\"colorbar\":{\"outlinewidth\":0,\"ticks\":\"\"}}}],\"scattermapbox\":[{\"type\":\"scattermapbox\",\"marker\":{\"colorbar\":{\"outlinewidth\":0,\"ticks\":\"\"}}}],\"scatterternary\":[{\"type\":\"scatterternary\",\"marker\":{\"colorbar\":{\"outlinewidth\":0,\"ticks\":\"\"}}}],\"scattercarpet\":[{\"type\":\"scattercarpet\",\"marker\":{\"colorbar\":{\"outlinewidth\":0,\"ticks\":\"\"}}}],\"carpet\":[{\"aaxis\":{\"endlinecolor\":\"#2a3f5f\",\"gridcolor\":\"white\",\"linecolor\":\"white\",\"minorgridcolor\":\"white\",\"startlinecolor\":\"#2a3f5f\"},\"baxis\":{\"endlinecolor\":\"#2a3f5f\",\"gridcolor\":\"white\",\"linecolor\":\"white\",\"minorgridcolor\":\"white\",\"startlinecolor\":\"#2a3f5f\"},\"type\":\"carpet\"}],\"table\":[{\"cells\":{\"fill\":{\"color\":\"#EBF0F8\"},\"line\":{\"color\":\"white\"}},\"header\":{\"fill\":{\"color\":\"#C8D4E3\"},\"line\":{\"color\":\"white\"}},\"type\":\"table\"}],\"barpolar\":[{\"marker\":{\"line\":{\"color\":\"#E5ECF6\",\"width\":0.5},\"pattern\":{\"fillmode\":\"overlay\",\"size\":10,\"solidity\":0.2}},\"type\":\"barpolar\"}],\"pie\":[{\"automargin\":true,\"type\":\"pie\"}]},\"layout\":{\"autotypenumbers\":\"strict\",\"colorway\":[\"#636efa\",\"#EF553B\",\"#00cc96\",\"#ab63fa\",\"#FFA15A\",\"#19d3f3\",\"#FF6692\",\"#B6E880\",\"#FF97FF\",\"#FECB52\"],\"font\":{\"color\":\"#2a3f5f\"},\"hovermode\":\"closest\",\"hoverlabel\":{\"align\":\"left\"},\"paper_bgcolor\":\"white\",\"plot_bgcolor\":\"#E5ECF6\",\"polar\":{\"bgcolor\":\"#E5ECF6\",\"angularaxis\":{\"gridcolor\":\"white\",\"linecolor\":\"white\",\"ticks\":\"\"},\"radialaxis\":{\"gridcolor\":\"white\",\"linecolor\":\"white\",\"ticks\":\"\"}},\"ternary\":{\"bgcolor\":\"#E5ECF6\",\"aaxis\":{\"gridcolor\":\"white\",\"linecolor\":\"white\",\"ticks\":\"\"},\"baxis\":{\"gridcolor\":\"white\",\"linecolor\":\"white\",\"ticks\":\"\"},\"caxis\":{\"gridcolor\":\"white\",\"linecolor\":\"white\",\"ticks\":\"\"}},\"coloraxis\":{\"colorbar\":{\"outlinewidth\":0,\"ticks\":\"\"}},\"colorscale\":{\"sequential\":[[0.0,\"#0d0887\"],[0.1111111111111111,\"#46039f\"],[0.2222222222222222,\"#7201a8\"],[0.3333333333333333,\"#9c179e\"],[0.4444444444444444,\"#bd3786\"],[0.5555555555555556,\"#d8576b\"],[0.6666666666666666,\"#ed7953\"],[0.7777777777777778,\"#fb9f3a\"],[0.8888888888888888,\"#fdca26\"],[1.0,\"#f0f921\"]],\"sequentialminus\":[[0.0,\"#0d0887\"],[0.1111111111111111,\"#46039f\"],[0.2222222222222222,\"#7201a8\"],[0.3333333333333333,\"#9c179e\"],[0.4444444444444444,\"#bd3786\"],[0.5555555555555556,\"#d8576b\"],[0.6666666666666666,\"#ed7953\"],[0.7777777777777778,\"#fb9f3a\"],[0.8888888888888888,\"#fdca26\"],[1.0,\"#f0f921\"]],\"diverging\":[[0,\"#8e0152\"],[0.1,\"#c51b7d\"],[0.2,\"#de77ae\"],[0.3,\"#f1b6da\"],[0.4,\"#fde0ef\"],[0.5,\"#f7f7f7\"],[0.6,\"#e6f5d0\"],[0.7,\"#b8e186\"],[0.8,\"#7fbc41\"],[0.9,\"#4d9221\"],[1,\"#276419\"]]},\"xaxis\":{\"gridcolor\":\"white\",\"linecolor\":\"white\",\"ticks\":\"\",\"title\":{\"standoff\":15},\"zerolinecolor\":\"white\",\"automargin\":true,\"zerolinewidth\":2},\"yaxis\":{\"gridcolor\":\"white\",\"linecolor\":\"white\",\"ticks\":\"\",\"title\":{\"standoff\":15},\"zerolinecolor\":\"white\",\"automargin\":true,\"zerolinewidth\":2},\"scene\":{\"xaxis\":{\"backgroundcolor\":\"#E5ECF6\",\"gridcolor\":\"white\",\"linecolor\":\"white\",\"showbackground\":true,\"ticks\":\"\",\"zerolinecolor\":\"white\",\"gridwidth\":2},\"yaxis\":{\"backgroundcolor\":\"#E5ECF6\",\"gridcolor\":\"white\",\"linecolor\":\"white\",\"showbackground\":true,\"ticks\":\"\",\"zerolinecolor\":\"white\",\"gridwidth\":2},\"zaxis\":{\"backgroundcolor\":\"#E5ECF6\",\"gridcolor\":\"white\",\"linecolor\":\"white\",\"showbackground\":true,\"ticks\":\"\",\"zerolinecolor\":\"white\",\"gridwidth\":2}},\"shapedefaults\":{\"line\":{\"color\":\"#2a3f5f\"}},\"annotationdefaults\":{\"arrowcolor\":\"#2a3f5f\",\"arrowhead\":0,\"arrowwidth\":1},\"geo\":{\"bgcolor\":\"white\",\"landcolor\":\"#E5ECF6\",\"subunitcolor\":\"white\",\"showland\":true,\"showlakes\":true,\"lakecolor\":\"white\"},\"title\":{\"x\":0.05},\"mapbox\":{\"style\":\"light\"}}},\"width\":800,\"height\":600,\"title\":{\"text\":\"SQQQ, March - 2023\"},\"yaxis\":{\"title\":{\"text\":\"SQQQ\"}}},                        {\"responsive\": true}                    ).then(function(){\n",
       "                            \n",
       "var gd = document.getElementById('e62b9cf9-42b2-4f3e-a508-08f92917e40d');\n",
       "var x = new MutationObserver(function (mutations, observer) {{\n",
       "        var display = window.getComputedStyle(gd).display;\n",
       "        if (!display || display === 'none') {{\n",
       "            console.log([gd, 'removed!']);\n",
       "            Plotly.purge(gd);\n",
       "            observer.disconnect();\n",
       "        }}\n",
       "}});\n",
       "\n",
       "// Listen for the removal of the full notebook cells\n",
       "var notebookContainer = gd.closest('#notebook-container');\n",
       "if (notebookContainer) {{\n",
       "    x.observe(notebookContainer, {childList: true});\n",
       "}}\n",
       "\n",
       "// Listen for the clearing of the current output cell\n",
       "var outputEl = gd.closest('.output');\n",
       "if (outputEl) {{\n",
       "    x.observe(outputEl, {childList: true});\n",
       "}}\n",
       "\n",
       "                        })                };                });            </script>        </div>"
      ]
     },
     "metadata": {},
     "output_type": "display_data"
    }
   ],
   "source": [
    "import plotly.graph_objects as go\n",
    "\n",
    "candlestick = go.Candlestick(\n",
    "                            x=data_whole.index,\n",
    "                            open=data_whole['Open'],\n",
    "                            high=data_whole['High'],\n",
    "                            low=data_whole['Low'],\n",
    "                            close=data_whole['Close']\n",
    "                            )\n",
    "\n",
    "fig = go.Figure(data=[candlestick])\n",
    "\n",
    "fig.update_layout(\n",
    "    width=800, height=600,\n",
    "    title=\"SQQQ, March - 2023\",\n",
    "    yaxis_title='SQQQ'\n",
    ")\n",
    "\n",
    "fig.show()"
   ]
  },
  {
   "cell_type": "markdown",
   "id": "83ab67b0-0aa1-4379-8ce3-a57adcb7d0dc",
   "metadata": {},
   "source": [
    "### Calculating Moving Averages"
   ]
  },
  {
   "cell_type": "code",
   "execution_count": 14,
   "id": "f5a0a5b8-4f9b-42a2-b67b-ccb93192a3a2",
   "metadata": {},
   "outputs": [
    {
     "data": {
      "text/html": [
       "<div>\n",
       "<style scoped>\n",
       "    .dataframe tbody tr th:only-of-type {\n",
       "        vertical-align: middle;\n",
       "    }\n",
       "\n",
       "    .dataframe tbody tr th {\n",
       "        vertical-align: top;\n",
       "    }\n",
       "\n",
       "    .dataframe thead th {\n",
       "        text-align: right;\n",
       "    }\n",
       "</style>\n",
       "<table border=\"1\" class=\"dataframe\">\n",
       "  <thead>\n",
       "    <tr style=\"text-align: right;\">\n",
       "      <th></th>\n",
       "      <th>Open</th>\n",
       "      <th>High</th>\n",
       "      <th>Low</th>\n",
       "      <th>Close</th>\n",
       "      <th>Volume</th>\n",
       "      <th>Dividends</th>\n",
       "      <th>Stock Splits</th>\n",
       "      <th>Capital Gains</th>\n",
       "      <th>20_SMA</th>\n",
       "      <th>50_SMA</th>\n",
       "      <th>100_SMA</th>\n",
       "    </tr>\n",
       "    <tr>\n",
       "      <th>Datetime</th>\n",
       "      <th></th>\n",
       "      <th></th>\n",
       "      <th></th>\n",
       "      <th></th>\n",
       "      <th></th>\n",
       "      <th></th>\n",
       "      <th></th>\n",
       "      <th></th>\n",
       "      <th></th>\n",
       "      <th></th>\n",
       "      <th></th>\n",
       "    </tr>\n",
       "  </thead>\n",
       "  <tbody>\n",
       "    <tr>\n",
       "      <th>2023-03-28 09:30:00-04:00</th>\n",
       "      <td>33.215000</td>\n",
       "      <td>33.638100</td>\n",
       "      <td>33.215000</td>\n",
       "      <td>33.509998</td>\n",
       "      <td>6224618</td>\n",
       "      <td>0.0</td>\n",
       "      <td>0.0</td>\n",
       "      <td>0.0</td>\n",
       "      <td>33.509998</td>\n",
       "      <td>33.509998</td>\n",
       "      <td>33.509998</td>\n",
       "    </tr>\n",
       "    <tr>\n",
       "      <th>2023-03-28 09:35:00-04:00</th>\n",
       "      <td>33.500099</td>\n",
       "      <td>33.820000</td>\n",
       "      <td>33.490002</td>\n",
       "      <td>33.779999</td>\n",
       "      <td>2822241</td>\n",
       "      <td>0.0</td>\n",
       "      <td>0.0</td>\n",
       "      <td>0.0</td>\n",
       "      <td>33.644999</td>\n",
       "      <td>33.644999</td>\n",
       "      <td>33.644999</td>\n",
       "    </tr>\n",
       "    <tr>\n",
       "      <th>2023-03-28 09:40:00-04:00</th>\n",
       "      <td>33.779999</td>\n",
       "      <td>33.939999</td>\n",
       "      <td>33.700100</td>\n",
       "      <td>33.830002</td>\n",
       "      <td>2311637</td>\n",
       "      <td>0.0</td>\n",
       "      <td>0.0</td>\n",
       "      <td>0.0</td>\n",
       "      <td>33.706666</td>\n",
       "      <td>33.706666</td>\n",
       "      <td>33.706666</td>\n",
       "    </tr>\n",
       "    <tr>\n",
       "      <th>2023-03-28 09:45:00-04:00</th>\n",
       "      <td>33.840000</td>\n",
       "      <td>33.870098</td>\n",
       "      <td>33.680000</td>\n",
       "      <td>33.709999</td>\n",
       "      <td>2376663</td>\n",
       "      <td>0.0</td>\n",
       "      <td>0.0</td>\n",
       "      <td>0.0</td>\n",
       "      <td>33.707500</td>\n",
       "      <td>33.707500</td>\n",
       "      <td>33.707500</td>\n",
       "    </tr>\n",
       "    <tr>\n",
       "      <th>2023-03-28 09:50:00-04:00</th>\n",
       "      <td>33.709999</td>\n",
       "      <td>33.849998</td>\n",
       "      <td>33.650002</td>\n",
       "      <td>33.674999</td>\n",
       "      <td>1700515</td>\n",
       "      <td>0.0</td>\n",
       "      <td>0.0</td>\n",
       "      <td>0.0</td>\n",
       "      <td>33.700999</td>\n",
       "      <td>33.700999</td>\n",
       "      <td>33.700999</td>\n",
       "    </tr>\n",
       "  </tbody>\n",
       "</table>\n",
       "</div>"
      ],
      "text/plain": [
       "                                Open       High        Low      Close  \\\n",
       "Datetime                                                                \n",
       "2023-03-28 09:30:00-04:00  33.215000  33.638100  33.215000  33.509998   \n",
       "2023-03-28 09:35:00-04:00  33.500099  33.820000  33.490002  33.779999   \n",
       "2023-03-28 09:40:00-04:00  33.779999  33.939999  33.700100  33.830002   \n",
       "2023-03-28 09:45:00-04:00  33.840000  33.870098  33.680000  33.709999   \n",
       "2023-03-28 09:50:00-04:00  33.709999  33.849998  33.650002  33.674999   \n",
       "\n",
       "                            Volume  Dividends  Stock Splits  Capital Gains  \\\n",
       "Datetime                                                                     \n",
       "2023-03-28 09:30:00-04:00  6224618        0.0           0.0            0.0   \n",
       "2023-03-28 09:35:00-04:00  2822241        0.0           0.0            0.0   \n",
       "2023-03-28 09:40:00-04:00  2311637        0.0           0.0            0.0   \n",
       "2023-03-28 09:45:00-04:00  2376663        0.0           0.0            0.0   \n",
       "2023-03-28 09:50:00-04:00  1700515        0.0           0.0            0.0   \n",
       "\n",
       "                              20_SMA     50_SMA    100_SMA  \n",
       "Datetime                                                    \n",
       "2023-03-28 09:30:00-04:00  33.509998  33.509998  33.509998  \n",
       "2023-03-28 09:35:00-04:00  33.644999  33.644999  33.644999  \n",
       "2023-03-28 09:40:00-04:00  33.706666  33.706666  33.706666  \n",
       "2023-03-28 09:45:00-04:00  33.707500  33.707500  33.707500  \n",
       "2023-03-28 09:50:00-04:00  33.700999  33.700999  33.700999  "
      ]
     },
     "execution_count": 14,
     "metadata": {},
     "output_type": "execute_result"
    }
   ],
   "source": [
    "#20 day simple moving avg\n",
    "data_whole['20_SMA'] = data_whole['Close'].rolling(window=20, min_periods=1).mean()\n",
    "#50 day simple moving avg\n",
    "data_whole['100_SMA'] = data_whole['Close'].rolling(window=100, min_periods=1).mean()   \n",
    "\n",
    "data_whole.head()"
   ]
  },
  {
   "cell_type": "markdown",
   "id": "422410f8-60be-4c3a-88c3-3f6ee1fe2588",
   "metadata": {},
   "source": [
    "When short-term MA crosses above the long-term MA, **buy signal**.</br>\n",
    "Vice versa, for **sell signal**."
   ]
  },
  {
   "cell_type": "code",
   "execution_count": null,
   "id": "02ddd884-f5cf-42e2-b99e-378ad908bf13",
   "metadata": {},
   "outputs": [],
   "source": []
  },
  {
   "cell_type": "code",
   "execution_count": null,
   "id": "29303c39-0cf1-4a1d-ae19-b14116be2b70",
   "metadata": {},
   "outputs": [],
   "source": []
  },
  {
   "cell_type": "code",
   "execution_count": null,
   "id": "e0ed1a49-4fe2-4ef0-a1f0-ed14fe5e6922",
   "metadata": {},
   "outputs": [],
   "source": []
  },
  {
   "cell_type": "code",
   "execution_count": null,
   "id": "7da1f8d2-9f42-41fd-a85c-d7c9ad0f0fee",
   "metadata": {},
   "outputs": [],
   "source": []
  },
  {
   "cell_type": "code",
   "execution_count": null,
   "id": "19c0fefd-61e1-4fdd-855b-78952cfa85dc",
   "metadata": {},
   "outputs": [],
   "source": []
  },
  {
   "cell_type": "code",
   "execution_count": null,
   "id": "8467d295-15e9-4d35-8d6e-e2f27ef1c462",
   "metadata": {},
   "outputs": [],
   "source": []
  },
  {
   "cell_type": "code",
   "execution_count": null,
   "id": "be43148a-accf-4139-bb60-61a1212bb8fd",
   "metadata": {},
   "outputs": [],
   "source": []
  },
  {
   "cell_type": "code",
   "execution_count": null,
   "id": "5e041e0c-fbe9-4567-9855-23ca4e806aca",
   "metadata": {},
   "outputs": [],
   "source": []
  },
  {
   "cell_type": "code",
   "execution_count": null,
   "id": "4969901e-c630-4182-80fe-84783514912b",
   "metadata": {},
   "outputs": [],
   "source": []
  },
  {
   "cell_type": "code",
   "execution_count": null,
   "id": "74821db0-e396-438b-9376-e1c25924e5b0",
   "metadata": {},
   "outputs": [],
   "source": []
  },
  {
   "cell_type": "code",
   "execution_count": null,
   "id": "b9ad6820-0807-4331-9583-78e9f956091c",
   "metadata": {},
   "outputs": [],
   "source": []
  },
  {
   "cell_type": "code",
   "execution_count": null,
   "id": "fd8bbe74-7c45-495e-b034-7f9d60ffd216",
   "metadata": {},
   "outputs": [],
   "source": []
  },
  {
   "cell_type": "code",
   "execution_count": null,
   "id": "2dc4a2bb-ce13-4b0a-a3a3-d2a7b94ba8a2",
   "metadata": {},
   "outputs": [],
   "source": []
  },
  {
   "cell_type": "markdown",
   "id": "768f0806-d0ce-49c7-b460-516316cae45c",
   "metadata": {},
   "source": [
    "***"
   ]
  },
  {
   "cell_type": "markdown",
   "id": "db4ca076-9e22-4f88-b9a9-8dc0fbea8a1b",
   "metadata": {},
   "source": [
    "### Ideas:\n",
    "- Market sector analysis to find the hottest, most undervalues, most valued sectors\n",
    "-\n",
    "-\n",
    "-\n"
   ]
  },
  {
   "cell_type": "code",
   "execution_count": null,
   "id": "1c026fac-d64f-475c-bbc3-a4e7f5dad094",
   "metadata": {},
   "outputs": [],
   "source": []
  }
 ],
 "metadata": {
  "kernelspec": {
   "display_name": "Python 3 (ipykernel)",
   "language": "python",
   "name": "python3"
  },
  "language_info": {
   "codemirror_mode": {
    "name": "ipython",
    "version": 3
   },
   "file_extension": ".py",
   "mimetype": "text/x-python",
   "name": "python",
   "nbconvert_exporter": "python",
   "pygments_lexer": "ipython3",
   "version": "3.10.9"
  }
 },
 "nbformat": 4,
 "nbformat_minor": 5
}
